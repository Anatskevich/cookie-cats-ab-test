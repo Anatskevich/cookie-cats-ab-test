{
 "cells": [
  {
   "cell_type": "code",
   "execution_count": 6,
   "id": "b34e5c10-02d0-4812-9dfc-94128bfba080",
   "metadata": {},
   "outputs": [
    {
     "data": {
      "text/html": [
       "<div>\n",
       "<style scoped>\n",
       "    .dataframe tbody tr th:only-of-type {\n",
       "        vertical-align: middle;\n",
       "    }\n",
       "\n",
       "    .dataframe tbody tr th {\n",
       "        vertical-align: top;\n",
       "    }\n",
       "\n",
       "    .dataframe thead th {\n",
       "        text-align: right;\n",
       "    }\n",
       "</style>\n",
       "<table border=\"1\" class=\"dataframe\">\n",
       "  <thead>\n",
       "    <tr style=\"text-align: right;\">\n",
       "      <th></th>\n",
       "      <th>userid</th>\n",
       "      <th>test_version</th>\n",
       "      <th>sum_gamerounds</th>\n",
       "      <th>retention_1</th>\n",
       "      <th>retention_7</th>\n",
       "    </tr>\n",
       "  </thead>\n",
       "  <tbody>\n",
       "    <tr>\n",
       "      <th>0</th>\n",
       "      <td>116</td>\n",
       "      <td>gate_30</td>\n",
       "      <td>3</td>\n",
       "      <td>False</td>\n",
       "      <td>False</td>\n",
       "    </tr>\n",
       "    <tr>\n",
       "      <th>1</th>\n",
       "      <td>337</td>\n",
       "      <td>gate_30</td>\n",
       "      <td>38</td>\n",
       "      <td>True</td>\n",
       "      <td>False</td>\n",
       "    </tr>\n",
       "    <tr>\n",
       "      <th>2</th>\n",
       "      <td>377</td>\n",
       "      <td>gate_40</td>\n",
       "      <td>165</td>\n",
       "      <td>True</td>\n",
       "      <td>False</td>\n",
       "    </tr>\n",
       "    <tr>\n",
       "      <th>3</th>\n",
       "      <td>483</td>\n",
       "      <td>gate_40</td>\n",
       "      <td>1</td>\n",
       "      <td>False</td>\n",
       "      <td>False</td>\n",
       "    </tr>\n",
       "    <tr>\n",
       "      <th>4</th>\n",
       "      <td>488</td>\n",
       "      <td>gate_40</td>\n",
       "      <td>179</td>\n",
       "      <td>True</td>\n",
       "      <td>True</td>\n",
       "    </tr>\n",
       "  </tbody>\n",
       "</table>\n",
       "</div>"
      ],
      "text/plain": [
       "   userid test_version  sum_gamerounds  retention_1  retention_7\n",
       "0     116      gate_30               3        False        False\n",
       "1     337      gate_30              38         True        False\n",
       "2     377      gate_40             165         True        False\n",
       "3     483      gate_40               1        False        False\n",
       "4     488      gate_40             179         True         True"
      ]
     },
     "execution_count": 6,
     "metadata": {},
     "output_type": "execute_result"
    }
   ],
   "source": [
    "import numpy as np\n",
    "import pandas as pd\n",
    "import seaborn as sns\n",
    "import matplotlib.pyplot as plt\n",
    "from scripts.proportion_ztest import calculate\n",
    "from scripts.ttest import calculate_ttest\n",
    "from scripts.data_loader import load_postgres_table, load_csv_data\n",
    "from scripts.ab_distribution import calculate_ab_distribution\n",
    "from scripts.ab_retention import calculate_retention\n",
    "from scripts.data_cleaner import get_outliers_count, clean_dataset, calculate_zero_players\n",
    "from scripts.data_segment_analyze import get_late_starters, get_loyal_users, analyze_segment\n",
    "\n",
    "# Reading dataset from postgresql database\n",
    "# df = load_postgres_table('cookiecats', 'cookie_cats')\n",
    "\n",
    "# Reading dataset from csv\n",
    "df = load_csv_data('cookie_cats.csv')\n",
    "\n",
    "# Show hew elements from begining\n",
    "df.head()"
   ]
  },
  {
   "cell_type": "code",
   "execution_count": 2,
   "id": "137be019-ece1-4cbf-bfd5-ea0c2de55a21",
   "metadata": {},
   "outputs": [
    {
     "data": {
      "text/plain": [
       "(90189, 5)"
      ]
     },
     "execution_count": 2,
     "metadata": {},
     "output_type": "execute_result"
    }
   ],
   "source": [
    "#Check shape of database\n",
    "df.shape"
   ]
  },
  {
   "cell_type": "code",
   "execution_count": 3,
   "id": "4231872d-e3d6-4ae7-af30-25989b4a16ed",
   "metadata": {},
   "outputs": [
    {
     "name": "stdout",
     "output_type": "stream",
     "text": [
      "<class 'pandas.core.frame.DataFrame'>\n",
      "RangeIndex: 90189 entries, 0 to 90188\n",
      "Data columns (total 5 columns):\n",
      " #   Column          Non-Null Count  Dtype \n",
      "---  ------          --------------  ----- \n",
      " 0   userid          90189 non-null  int64 \n",
      " 1   version         90189 non-null  object\n",
      " 2   sum_gamerounds  90189 non-null  int64 \n",
      " 3   retention_1     90189 non-null  bool  \n",
      " 4   retention_7     90189 non-null  bool  \n",
      "dtypes: bool(2), int64(2), object(1)\n",
      "memory usage: 2.2+ MB\n"
     ]
    }
   ],
   "source": [
    "#main information about database\n",
    "df.info()"
   ]
  },
  {
   "cell_type": "code",
   "execution_count": 4,
   "id": "888dc09e-37fb-4dd8-b86d-edccc52187be",
   "metadata": {},
   "outputs": [
    {
     "data": {
      "text/plain": [
       "userid            0\n",
       "version           0\n",
       "sum_gamerounds    0\n",
       "retention_1       0\n",
       "retention_7       0\n",
       "dtype: int64"
      ]
     },
     "execution_count": 4,
     "metadata": {},
     "output_type": "execute_result"
    }
   ],
   "source": [
    "#Check null elements count in database\n",
    "df.isna().sum()"
   ]
  },
  {
   "cell_type": "code",
   "execution_count": 7,
   "id": "3a7e878d-2b16-4e0f-a203-2c46441f14dd",
   "metadata": {},
   "outputs": [
    {
     "data": {
      "text/html": [
       "<div>\n",
       "<style scoped>\n",
       "    .dataframe tbody tr th:only-of-type {\n",
       "        vertical-align: middle;\n",
       "    }\n",
       "\n",
       "    .dataframe tbody tr th {\n",
       "        vertical-align: top;\n",
       "    }\n",
       "\n",
       "    .dataframe thead th {\n",
       "        text-align: right;\n",
       "    }\n",
       "</style>\n",
       "<table border=\"1\" class=\"dataframe\">\n",
       "  <thead>\n",
       "    <tr style=\"text-align: right;\">\n",
       "      <th></th>\n",
       "      <th>test_version</th>\n",
       "      <th>number_of_players</th>\n",
       "      <th>percent</th>\n",
       "    </tr>\n",
       "  </thead>\n",
       "  <tbody>\n",
       "    <tr>\n",
       "      <th>0</th>\n",
       "      <td>gate_30</td>\n",
       "      <td>44700</td>\n",
       "      <td>49.56</td>\n",
       "    </tr>\n",
       "    <tr>\n",
       "      <th>1</th>\n",
       "      <td>gate_40</td>\n",
       "      <td>45489</td>\n",
       "      <td>50.44</td>\n",
       "    </tr>\n",
       "  </tbody>\n",
       "</table>\n",
       "</div>"
      ],
      "text/plain": [
       "  test_version  number_of_players  percent\n",
       "0      gate_30              44700    49.56\n",
       "1      gate_40              45489    50.44"
      ]
     },
     "metadata": {},
     "output_type": "display_data"
    },
    {
     "name": "stdout",
     "output_type": "stream",
     "text": [
      "The groups are almost perfectly balanced. Difference is: 0.88%\n"
     ]
    }
   ],
   "source": [
    "# group distribution check\n",
    "distribution = calculate_ab_distribution(df, 'test_version', 'userid')\n",
    "display(distribution)\n",
    "\n",
    "difference = abs(distribution['percent'].iloc[0] - distribution['percent'].iloc[1])\n",
    "print(f'The groups are almost perfectly balanced. Difference is: {difference.round(2)}%')"
   ]
  },
  {
   "cell_type": "code",
   "execution_count": 98,
   "id": "def6e7b0-d51d-474c-9cc7-5a3e519cf0f7",
   "metadata": {},
   "outputs": [
    {
     "data": {
      "image/png": "[encoded data removed]",
      "text/plain": [
       "<Figure size 1000x600 with 1 Axes>"
      ]
     },
     "metadata": {},
     "output_type": "display_data"
    }
   ],
   "source": [
    "plt.figure(figsize=(10, 6))\n",
    "palette = sns.color_palette(\"husl\", n_colors=len(df['test_version'].unique()))\n",
    "\n",
    "ax = sns.countplot(x='test_version', data=df, \n",
    "                  palette=palette,\n",
    "                  saturation=0.9,\n",
    "                  edgecolor='black',\n",
    "                  linewidth=1,\n",
    "                  legend=True,\n",
    "                  hue='test_version')\n",
    "\n",
    "for p in ax.patches:\n",
    "    if p.get_height() == 0:\n",
    "        continue\n",
    "    ax.annotate(f'{p.get_height():,.0f}',\n",
    "                (p.get_x() + p.get_width() / 2., p.get_height()), \n",
    "                ha='center', va='center', \n",
    "                xytext=(0, 10), \n",
    "                textcoords='offset points',\n",
    "                fontsize=12,\n",
    "                fontweight='bold')\n",
    "\n",
    "ax.set_title('Group players distribution', fontsize=16, pad=20, fontweight='bold')\n",
    "ax.set_xlabel('Test Version', fontsize=12, labelpad=10)\n",
    "ax.set_ylabel('Number of players', fontsize=12, labelpad=10)\n",
    "\n",
    "ax.set_xticks(ax.get_xticks()) \n",
    "ax.set_xticklabels(ax.get_xticklabels(), fontsize=12)\n",
    "\n",
    "ax.grid(axis='y', linestyle='--', alpha=0.4)\n",
    "sns.despine(left=True)\n",
    "\n",
    "ax.legend(\n",
    "    title='Group', \n",
    "    labels=['Control (gate_30)', 'Experiment (gate_40)'],\n",
    "    title_fontsize=11,\n",
    "    fontsize=10,\n",
    "    framealpha=0.9,\n",
    "    loc='upper right'\n",
    ")\n",
    "\n",
    "#Small increase for correct legend positioning\n",
    "ax.set_ylim(top=ax.get_ylim()[1]*1.25)\n",
    "\n",
    "plt.tight_layout()\n",
    "plt.show()"
   ]
  },
  {
   "cell_type": "code",
   "execution_count": 8,
   "id": "d1bf4431-4cdf-41b3-85a5-fdf3665fec1d",
   "metadata": {},
   "outputs": [
    {
     "data": {
      "text/html": [
       "<div>\n",
       "<style scoped>\n",
       "    .dataframe tbody tr th:only-of-type {\n",
       "        vertical-align: middle;\n",
       "    }\n",
       "\n",
       "    .dataframe tbody tr th {\n",
       "        vertical-align: top;\n",
       "    }\n",
       "\n",
       "    .dataframe thead th {\n",
       "        text-align: right;\n",
       "    }\n",
       "</style>\n",
       "<table border=\"1\" class=\"dataframe\">\n",
       "  <thead>\n",
       "    <tr style=\"text-align: right;\">\n",
       "      <th></th>\n",
       "      <th>test_version</th>\n",
       "      <th>retention_1</th>\n",
       "      <th>retention_7</th>\n",
       "    </tr>\n",
       "  </thead>\n",
       "  <tbody>\n",
       "    <tr>\n",
       "      <th>0</th>\n",
       "      <td>gate_30</td>\n",
       "      <td>44.82</td>\n",
       "      <td>19.02</td>\n",
       "    </tr>\n",
       "    <tr>\n",
       "      <th>1</th>\n",
       "      <td>gate_40</td>\n",
       "      <td>44.23</td>\n",
       "      <td>18.20</td>\n",
       "    </tr>\n",
       "    <tr>\n",
       "      <th>0</th>\n",
       "      <td>difference</td>\n",
       "      <td>0.59</td>\n",
       "      <td>0.82</td>\n",
       "    </tr>\n",
       "  </tbody>\n",
       "</table>\n",
       "</div>"
      ],
      "text/plain": [
       "  test_version  retention_1  retention_7\n",
       "0      gate_30        44.82        19.02\n",
       "1      gate_40        44.23        18.20\n",
       "0   difference         0.59         0.82"
      ]
     },
     "execution_count": 8,
     "metadata": {},
     "output_type": "execute_result"
    }
   ],
   "source": [
    "#retention by group\n",
    "ret_table = calculate_retention(df, 'test_version', ['retention_1', 'retention_7'])\n",
    "ret_table.round(2)"
   ]
  },
  {
   "cell_type": "code",
   "execution_count": 18,
   "id": "ff2462db-ba40-498d-b82f-024bb7679f37",
   "metadata": {},
   "outputs": [
    {
     "name": "stdout",
     "output_type": "stream",
     "text": [
      "Retention of day 1, day 7 is higher in gate_30 group\n"
     ]
    }
   ],
   "source": [
    "print('Retention of day 1, day 7 is higher in gate_30 group')"
   ]
  },
  {
   "cell_type": "code",
   "execution_count": 9,
   "id": "b6453352-9a8c-41be-b072-2ab2ca48986d",
   "metadata": {},
   "outputs": [
    {
     "data": {
      "text/html": [
       "<div>\n",
       "<style scoped>\n",
       "    .dataframe tbody tr th:only-of-type {\n",
       "        vertical-align: middle;\n",
       "    }\n",
       "\n",
       "    .dataframe tbody tr th {\n",
       "        vertical-align: top;\n",
       "    }\n",
       "\n",
       "    .dataframe thead th {\n",
       "        text-align: right;\n",
       "    }\n",
       "</style>\n",
       "<table border=\"1\" class=\"dataframe\">\n",
       "  <thead>\n",
       "    <tr style=\"text-align: right;\">\n",
       "      <th></th>\n",
       "      <th>test_version</th>\n",
       "      <th>total_players</th>\n",
       "      <th>zero_players_count</th>\n",
       "      <th>percent</th>\n",
       "    </tr>\n",
       "  </thead>\n",
       "  <tbody>\n",
       "    <tr>\n",
       "      <th>0</th>\n",
       "      <td>gate_30</td>\n",
       "      <td>44700</td>\n",
       "      <td>1937</td>\n",
       "      <td>4.33</td>\n",
       "    </tr>\n",
       "    <tr>\n",
       "      <th>1</th>\n",
       "      <td>gate_40</td>\n",
       "      <td>45489</td>\n",
       "      <td>2057</td>\n",
       "      <td>4.52</td>\n",
       "    </tr>\n",
       "  </tbody>\n",
       "</table>\n",
       "</div>"
      ],
      "text/plain": [
       "  test_version  total_players  zero_players_count  percent\n",
       "0      gate_30          44700                1937     4.33\n",
       "1      gate_40          45489                2057     4.52"
      ]
     },
     "metadata": {},
     "output_type": "display_data"
    },
    {
     "name": "stdout",
     "output_type": "stream",
     "text": [
      "Z-статистика: -1.377, p-value: 0.169\n",
      "  test_version  total_players  zero_players_count  percent p_value\n",
      "0      gate_30          44700                1937     4.33       -\n",
      "1      gate_40          45489                2057     4.52    0.17\n",
      "There is no statistical significance among players who did not complete any levels\n"
     ]
    }
   ],
   "source": [
    "final_table = calculate_zero_players(df, 'test_version', 'userid', 'sum_gamerounds')\n",
    "display(final_table)\n",
    "\n",
    "total_players = final_table['total_players'].iloc[:2].tolist()\n",
    "total_zero_players = final_table['zero_players_count'].iloc[:2].tolist()\n",
    "\n",
    "p_value = calculate(total_zero_players, total_players)\n",
    "p_value\n",
    "\n",
    "final_table['p_value'] = ['-', p_value.round(2)]\n",
    "print(final_table)\n",
    "print('There is no statistical significance among players who did not complete any levels')"
   ]
  },
  {
   "cell_type": "code",
   "execution_count": 35,
   "id": "97d06474-13f5-471b-b58d-bad30d3c331c",
   "metadata": {},
   "outputs": [
    {
     "name": "stdout",
     "output_type": "stream",
     "text": [
      "count    44700.000000\n",
      "mean        52.456264\n",
      "std        256.716423\n",
      "min          0.000000\n",
      "25%          5.000000\n",
      "50%         17.000000\n",
      "75%         50.000000\n",
      "max      49854.000000\n",
      "Name: sum_gamerounds, dtype: float64\n",
      "count    45489.000000\n",
      "mean        51.298776\n",
      "std        103.294416\n",
      "min          0.000000\n",
      "25%          5.000000\n",
      "50%         16.000000\n",
      "75%         52.000000\n",
      "max       2640.000000\n",
      "Name: sum_gamerounds, dtype: float64\n"
     ]
    },
    {
     "data": {
      "image/png": "[encoded data removed]",
      "text/plain": [
       "<Figure size 1000x600 with 1 Axes>"
      ]
     },
     "metadata": {},
     "output_type": "display_data"
    },
    {
     "name": "stdout",
     "output_type": "stream",
     "text": [
      "As we see in chart - there a some outliers count with huge amount of levels\n"
     ]
    }
   ],
   "source": [
    "plt.figure(figsize=(10, 6))  # Размер графика\n",
    "\n",
    "metrics_30 = df[df['test_version']=='gate_30']['sum_gamerounds'].describe()\n",
    "metrics_40 = df[df['test_version']=='gate_40']['sum_gamerounds'].describe()\n",
    "print(metrics_30)\n",
    "print(metrics_40)\n",
    "\n",
    "#Chart with levels stats without outliers\n",
    "palette = sns.color_palette(\"husl\", n_colors=len(df['test_version'].unique()))\n",
    "box = sns.boxplot(\n",
    "    data=df,\n",
    "    x=\"test_version\",\n",
    "    y=\"sum_gamerounds\",\n",
    "    hue='test_version',\n",
    "    palette=palette,\n",
    "    width=0.6,\n",
    "    linewidth=1.5,\n",
    "    fliersize=3,  # Размер точек выбросов\n",
    "    showfliers=True\n",
    ")\n",
    "\n",
    "plt.ylabel('Total Game Rounds (log scale)', fontsize=12)\n",
    "\n",
    "plt.show()\n",
    "print('As we see in chart - there a some outliers count with huge amount of levels')"
   ]
  },
  {
   "cell_type": "code",
   "execution_count": 25,
   "id": "468df1fd-cb13-4f40-9a5e-389d5ec21fae",
   "metadata": {},
   "outputs": [
    {
     "name": "stdout",
     "output_type": "stream",
     "text": [
      "Hardcore players' behavior is similar in both groups: \n",
      "- gate_30: 493.0 rounds (99th percentile)\n",
      "- gate_40: 492.12 rounds (99th percentile)\n",
      "Conclusion: Outliers can be removed based on the global 99th percentile.\n"
     ]
    }
   ],
   "source": [
    "outliers = df.groupby('test_version')['sum_gamerounds'].quantile(0.99).round(2)\n",
    "print(\n",
    "    f\"Hardcore players' behavior is similar in both groups: \\n\"\n",
    "    f\"- gate_30: {outliers['gate_30']} rounds (99th percentile)\\n\"\n",
    "    f\"- gate_40: {outliers['gate_40']} rounds (99th percentile)\\n\"\n",
    "    \"Conclusion: Outliers can be removed based on the global 99th percentile.\"\n",
    ")"
   ]
  },
  {
   "cell_type": "code",
   "execution_count": 2,
   "id": "c7a49765-22cb-4414-98ef-55b0029708a8",
   "metadata": {},
   "outputs": [
    {
     "name": "stdout",
     "output_type": "stream",
     "text": [
      "\n",
      "Data cleaning:\n",
      "- Initial dataset: 90189 players\n",
      "- Outliers removed: 906 players (top 1% by 'sum_gamerounds')\n",
      "- Clean dataset: 89283 players remaining\n"
     ]
    },
    {
     "data": {
      "text/html": [
       "<div>\n",
       "<style scoped>\n",
       "    .dataframe tbody tr th:only-of-type {\n",
       "        vertical-align: middle;\n",
       "    }\n",
       "\n",
       "    .dataframe tbody tr th {\n",
       "        vertical-align: top;\n",
       "    }\n",
       "\n",
       "    .dataframe thead th {\n",
       "        text-align: right;\n",
       "    }\n",
       "</style>\n",
       "<table border=\"1\" class=\"dataframe\">\n",
       "  <thead>\n",
       "    <tr style=\"text-align: right;\">\n",
       "      <th></th>\n",
       "      <th>userid</th>\n",
       "      <th>test_version</th>\n",
       "      <th>sum_gamerounds</th>\n",
       "      <th>retention_1</th>\n",
       "      <th>retention_7</th>\n",
       "    </tr>\n",
       "  </thead>\n",
       "  <tbody>\n",
       "    <tr>\n",
       "      <th>0</th>\n",
       "      <td>116</td>\n",
       "      <td>gate_30</td>\n",
       "      <td>3</td>\n",
       "      <td>False</td>\n",
       "      <td>False</td>\n",
       "    </tr>\n",
       "    <tr>\n",
       "      <th>1</th>\n",
       "      <td>337</td>\n",
       "      <td>gate_30</td>\n",
       "      <td>38</td>\n",
       "      <td>True</td>\n",
       "      <td>False</td>\n",
       "    </tr>\n",
       "    <tr>\n",
       "      <th>2</th>\n",
       "      <td>377</td>\n",
       "      <td>gate_40</td>\n",
       "      <td>165</td>\n",
       "      <td>True</td>\n",
       "      <td>False</td>\n",
       "    </tr>\n",
       "    <tr>\n",
       "      <th>3</th>\n",
       "      <td>483</td>\n",
       "      <td>gate_40</td>\n",
       "      <td>1</td>\n",
       "      <td>False</td>\n",
       "      <td>False</td>\n",
       "    </tr>\n",
       "    <tr>\n",
       "      <th>4</th>\n",
       "      <td>488</td>\n",
       "      <td>gate_40</td>\n",
       "      <td>179</td>\n",
       "      <td>True</td>\n",
       "      <td>True</td>\n",
       "    </tr>\n",
       "  </tbody>\n",
       "</table>\n",
       "</div>"
      ],
      "text/plain": [
       "   userid test_version  sum_gamerounds  retention_1  retention_7\n",
       "0     116      gate_30               3        False        False\n",
       "1     337      gate_30              38         True        False\n",
       "2     377      gate_40             165         True        False\n",
       "3     483      gate_40               1        False        False\n",
       "4     488      gate_40             179         True         True"
      ]
     },
     "execution_count": 2,
     "metadata": {},
     "output_type": "execute_result"
    }
   ],
   "source": [
    "#Remove outliers\n",
    "initial_count = len(df)\n",
    "outliers_count = get_outliers_count(df, 'sum_gamerounds', 0.99)\n",
    "\n",
    "print(\n",
    "    f\"\\nData cleaning:\\n\"\n",
    "    f\"- Initial dataset: {initial_count} players\\n\"\n",
    "    f\"- Outliers removed: {outliers_count} players (top 1% by 'sum_gamerounds')\\n\"\n",
    "    f\"- Clean dataset: {initial_count - outliers_count} players remaining\"\n",
    ")\n",
    "\n",
    "# Apply filtering (keep only non-zero and non-outliers)\n",
    "clean_df = clean_dataset(df, 'sum_gamerounds', 0.99, True)\n",
    "clean_df.head()"
   ]
  },
  {
   "cell_type": "code",
   "execution_count": 20,
   "id": "e8bf4198-6331-4692-9b3d-f3d61a116d31",
   "metadata": {},
   "outputs": [
    {
     "name": "stdout",
     "output_type": "stream",
     "text": [
      "  test_version  retention_1\n",
      "0      gate_30    44.818792\n",
      "1      gate_40    44.228275\n",
      "  test_version  retention_1\n",
      "0      gate_30    46.216203\n",
      "1      gate_40    45.670940\n",
      "                      All users Without outliers\n",
      "Metric                                          \n",
      "Retention 1 day  44.82 vs 44.23   46.22 vs 45.67\n",
      "Difference                 0.59             0.55\n",
      "Sensitivity Analysis result: the effect is stable on any calculation\n"
     ]
    }
   ],
   "source": [
    "#Sensitivity Analysis\n",
    "group = df.groupby('test_version')['retention_1'].mean().mul(100).reset_index(name = 'retention_1')\n",
    "print(group)\n",
    "\n",
    "group_without_outliers = clean_df.groupby('test_version')['retention_1'].mean().mul(100).reset_index(name = 'retention_1')\n",
    "print(group_without_outliers)\n",
    "\n",
    "difference_initial = group['retention_1'].iloc[0].round(2) - group['retention_1'].iloc[1].round(2)\n",
    "difference_without_outliers = group_without_outliers['retention_1'].iloc[0].round(2) - group_without_outliers['retention_1'].iloc[1].round(2)\n",
    "\n",
    "data = {\n",
    "    'Metric': ['Retention 1 day', 'Difference'],\n",
    "    'All users': [f'{group['retention_1'].iloc[0].round(2)} vs {group['retention_1'].iloc[1].round(2)}', difference_initial],\n",
    "    'Without outliers': [f'{group_without_outliers['retention_1'].iloc[0].round(2)} vs {group_without_outliers['retention_1'].iloc[1].round(2)}', difference_without_outliers]\n",
    "}\n",
    "\n",
    "sensitivity_frame = pd.DataFrame(data)\n",
    "sensitivity_frame.set_index('Metric', inplace=True)\n",
    "print(sensitivity_frame)\n",
    "print(\"Sensitivity Analysis result: the effect is stable on any calculation\")"
   ]
  },
  {
   "cell_type": "code",
   "execution_count": 21,
   "id": "77185d68-b1a3-4b57-bdae-ff8c3fa3971c",
   "metadata": {},
   "outputs": [
    {
     "data": {
      "image/png": "[encoded data removed]",
      "text/plain": [
       "<Figure size 640x480 with 1 Axes>"
      ]
     },
     "metadata": {},
     "output_type": "display_data"
    }
   ],
   "source": [
    "#Chart with levels stats without outliers\n",
    "palette = sns.color_palette(\"husl\", n_colors=len(df['test_version'].unique()))\n",
    "box = sns.boxplot(\n",
    "    data=clean_df,\n",
    "    x=\"test_version\",\n",
    "    y=\"sum_gamerounds\",\n",
    "    hue='test_version',\n",
    "    palette=palette,\n",
    "    width=0.6,\n",
    "    linewidth=1.5,\n",
    "    fliersize=3,  # Размер точек выбросов\n",
    "    showfliers=True\n",
    ")\n",
    "\n",
    "plt.yscale('log')\n",
    "plt.ylabel('Total Game Rounds (log scale)', fontsize=12)\n",
    "\n",
    "print('Chart shows the sum of game rounds in logariphmic scale (for clean view) after outliers removed')\n",
    "plt.show()"
   ]
  },
  {
   "cell_type": "code",
   "execution_count": 16,
   "id": "4be7a9ce-9ba1-47a8-9f85-1d1338690083",
   "metadata": {},
   "outputs": [
    {
     "data": {
      "image/png": "[encoded data removed]",
      "text/plain": [
       "<Figure size 1200x700 with 1 Axes>"
      ]
     },
     "metadata": {},
     "output_type": "display_data"
    }
   ],
   "source": [
    "plt.figure(figsize=(12, 7))\n",
    "\n",
    "palette = sns.color_palette(\"husl\", n_colors=len(df['test_version'].unique()))\n",
    "ax = sns.histplot(\n",
    "    data=clean_df,\n",
    "    x='sum_gamerounds',\n",
    "    hue='test_version',    \n",
    "    palette=palette,\n",
    "    bins=50,                 \n",
    "    alpha=0.7,\n",
    "    edgecolor='white',\n",
    "    linewidth=0.5,\n",
    "    multiple='dodge'\n",
    ")\n",
    "\n",
    "plt.show()"
   ]
  },
  {
   "cell_type": "code",
   "execution_count": 27,
   "id": "5049f911-37b0-44a2-9081-747d93ce3318",
   "metadata": {},
   "outputs": [
    {
     "name": "stdout",
     "output_type": "stream",
     "text": [
      "Users segmentation for behaviour analisys: \n",
      "Let's devide users into segments to estimate the average number of levels on the cleaned data. \n",
      "- The first segment includes late starters (retention_1 = false, retention_7 = true) \n",
      "- The second segment includes loyal users (retention_1 = true, retention_7 = true) \n",
      "- We will also analyze all users separately by the number of levels completed \n",
      "\n"
     ]
    }
   ],
   "source": [
    "print(\n",
    "    'Users segmentation for behaviour analisys: \\n'\n",
    "    'Let\\'s devide users into segments to estimate the average number of levels on the cleaned data. \\n'\n",
    "    '- The first segment includes late starters (retention_1 = false, retention_7 = true) \\n'\n",
    "    '- The second segment includes loyal users (retention_1 = true, retention_7 = true) \\n'\n",
    "    '- We will also analyze all users separately by the number of levels completed \\n'\n",
    ")"
   ]
  },
  {
   "cell_type": "code",
   "execution_count": 3,
   "id": "4321296d-a582-41d3-bbd7-54461945c08d",
   "metadata": {},
   "outputs": [
    {
     "name": "stdout",
     "output_type": "stream",
     "text": [
      "     userid test_version  sum_gamerounds  retention_1  retention_7\n",
      "10     1842      gate_40               3        False         True\n",
      "23     2729      gate_30             105        False         True\n",
      "90     8788      gate_30              19        False         True\n",
      "102   10200      gate_40             106        False         True\n",
      "143   13429      gate_30              60        False         True\n",
      "              avg_levels\n",
      "test_version            \n",
      "gate_30       100.431544\n",
      "gate_40        75.261139\n",
      "Here is incorrect result because of outliers\n",
      "Mistake in result that gate_30 better then gate_40 by avg levels\n"
     ]
    }
   ],
   "source": [
    "#Late starters analisys\n",
    "#retention_1 = false, retention_7 = true\n",
    "#example for data without outliers remove\n",
    "\n",
    "late_starters = get_late_starters(df)\n",
    "print(late_starters.head())\n",
    "\n",
    "avg_levels = late_starters.groupby('test_version').agg(\n",
    "    avg_levels = ('sum_gamerounds', 'mean')\n",
    ")\n",
    "\n",
    "print(avg_levels)\n",
    "print('Here is incorrect result because of outliers')\n",
    "print('Mistake in result that gate_30 better then gate_40 by avg levels')"
   ]
  },
  {
   "cell_type": "code",
   "execution_count": 8,
   "id": "6de1619a-3c06-4c68-a956-cf70a4497c7f",
   "metadata": {},
   "outputs": [
    {
     "name": "stdout",
     "output_type": "stream",
     "text": [
      "  test_version  players_count  avg_levels difference p_value t_value Cohen_s d\n",
      "0      gate_30           1800       70.06          -       -       -         -\n",
      "1      gate_40           1755       72.01       1.95   0.456  -0.746    -0.025\n",
      "There is no statistical significance among late starters\n"
     ]
    }
   ],
   "source": [
    "#Late starters analisys\n",
    "#retention_1 = false, retention_7 = true\n",
    "#data without outliers\n",
    "\n",
    "segment = get_late_starters(clean_df)\n",
    "avg_levels = analyze_segment(segment)\n",
    "\n",
    "print(avg_levels)\n",
    "print('There is no statistical significance among late starters')"
   ]
  },
  {
   "cell_type": "code",
   "execution_count": 5,
   "id": "733a0b19-fa6d-451d-8d76-82904551d8c1",
   "metadata": {},
   "outputs": [
    {
     "name": "stdout",
     "output_type": "stream",
     "text": [
      "  test_version  players_count  avg_levels difference p_value t_value Cohen_s d\n",
      "0      gate_30           6257      148.37          -       -       -         -\n",
      "1      gate_40           6074      151.88       3.51   0.079  -1.758    -0.032\n",
      "Conclusions \n",
      "- No statistical significance (p = 0.079 > 0.05), but there is a trend: in `gate_40` players complete 3.5 more levels. \n",
      "- Effect size is weak (d = -0.03) — The effect is microscopic. \n",
      "- Test has sufficient power (n > 6,000 per group) → if the effect is real, we should have detected it. \n",
      "\n"
     ]
    }
   ],
   "source": [
    "#Loyal player analisys\n",
    "segment = get_loyal_users(clean_df)\n",
    "avg_levels = analyze_segment(segment)\n",
    "\n",
    "print(avg_levels)\n",
    "print(\n",
    "    'Conclusions \\n'\n",
    "    '- No statistical significance (p = 0.079 > 0.05), but there is a trend: in `gate_40` players complete 3.5 more levels. \\n'\n",
    "    '- Effect size is weak (d = -0.03) — The effect is microscopic. \\n'\n",
    "    '- Test has sufficient power (n > 6,000 per group) → if the effect is real, we should have detected it. \\n'\n",
    ")"
   ]
  },
  {
   "cell_type": "code",
   "execution_count": 7,
   "id": "264c2b73-c30e-432e-a685-135b5a3793f4",
   "metadata": {},
   "outputs": [
    {
     "name": "stdout",
     "output_type": "stream",
     "text": [
      "  test_version  players_count  avg_levels difference p_value t_value Cohen_s d\n",
      "0      gate_30          42312       46.65          -       -       -         -\n",
      "1      gate_40          42977       46.49       0.16   0.748   0.321     0.002\n",
      "p-value = 0.748. No statistical significance.\n"
     ]
    }
   ],
   "source": [
    "avg_levels = analyze_segment(clean_df)\n",
    "\n",
    "print(avg_levels)\n",
    "print('p-value = 0.748. No statistical significance.')"
   ]
  },
  {
   "cell_type": "code",
   "execution_count": 38,
   "id": "127a9428-c0f9-4577-bec0-10bacf2c3b09",
   "metadata": {},
   "outputs": [
    {
     "name": "stdout",
     "output_type": "stream",
     "text": [
      "Although in the gate_40 group, loyal players complete 3.5 levels more (p=0.08), the effect is not statistically significant. The effect size is negligible (Cohen's d=-0.03) — there are practically no differences. \n",
      "\n",
      "According to the data from this report, the best decision at the moment would be to leave the gate at level 30. \n",
      "\n",
      "I also observe that in production, gate is currently at level 40. \n",
      "Perhaps the decision to keep gate_40 was made based on unaccounted metrics (monetization, LTV, churn) or the results of later tests were different. There is no data in the current dataset to test these hypotheses.\n"
     ]
    }
   ],
   "source": [
    "print('Although in the gate_40 group, loyal players complete 3.5 levels more (p=0.08), the effect is not statistically significant. The effect size is negligible (Cohen\\'s d=-0.03) — there are practically no differences. \\n')\n",
    "\n",
    "print('According to the data from this report, the best decision at the moment would be to leave the gate at level 30. \\n')\n",
    "\n",
    "print(\n",
    "    'I also observe that in production, gate is currently at level 40. \\n'\n",
    "    'Perhaps the decision to keep gate_40 was made based on unaccounted metrics (monetization, LTV, churn) or the results of later tests were different. There is no data in the current dataset to test these hypotheses.'\n",
    ")"
   ]
  },
  {
   "cell_type": "code",
   "execution_count": null,
   "id": "c9077383-37d3-483d-89a8-80cf538cc8b0",
   "metadata": {},
   "outputs": [],
   "source": []
  }
 ],
 "metadata": {
  "kernelspec": {
   "display_name": "cookie_cats_venv",
   "language": "python",
   "name": "cookie_cats_venv"
  },
  "language_info": {
   "codemirror_mode": {
    "name": "ipython",
    "version": 3
   },
   "file_extension": ".py",
   "mimetype": "text/x-python",
   "name": "python",
   "nbconvert_exporter": "python",
   "pygments_lexer": "ipython3",
   "version": "3.13.7"
  }
 },
 "nbformat": 4,
 "nbformat_minor": 5
}
